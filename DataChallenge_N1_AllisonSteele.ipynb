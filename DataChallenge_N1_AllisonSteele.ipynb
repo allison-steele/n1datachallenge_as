{
 "cells": [
  {
   "cell_type": "code",
   "execution_count": 9,
   "metadata": {},
   "outputs": [],
   "source": [
    "import pandas as pd\n",
    "import sqlite3\n",
    "from sqlite3 import Error\n",
    "import matplotlib.pyplot as plt\n",
    "import matplotlib\n"
   ]
  },
  {
   "attachments": {},
   "cell_type": "markdown",
   "metadata": {},
   "source": [
    "### Extract, Explore, Clean"
   ]
  },
  {
   "cell_type": "code",
   "execution_count": null,
   "metadata": {},
   "outputs": [],
   "source": [
    "# Extract tables from database for initial explore/clean\n",
    "db_path = '/Users/allisonsteele/Downloads/challenge.db'\n",
    "\n",
    "conn = None;\n",
    "try:\n",
    "    conn = sqlite3.connect(db_path)\n",
    "    cursor = conn.cursor()\n",
    "\n",
    "    # Extract Access Table\n",
    "    sql = '''SELECT * FROM access'''\n",
    "    access= pd.read_sql(sql, conn, index_col='index')\n",
    "    access_df = pd.DataFrame(access)\n",
    "\n",
    "    # Extract five_hundred_cities Table\n",
    "    sql = '''SELECT * FROM five_hundred_cities'''\n",
    "    five_hundred_cities= pd.read_sql(sql, conn, index_col='index')\n",
    "    five_hundred_cities_df = pd.DataFrame(five_hundred_cities)\n",
    "\n",
    "    # Extract variable Table\n",
    "    sql = '''SELECT * FROM variable_list'''\n",
    "    variable_list = pd.read_sql(sql, conn, index_col='index')\n",
    "    variable_list_df = pd.DataFrame(variable_list)\n",
    "\n",
    "    # show dataframes\n",
    "    display(access_df.head())\n",
    "    display(five_hundred_cities_df.head())\n",
    "    display(variable_list_df.head())\n",
    "\n",
    "\n",
    "except Error as e: \n",
    "  print(e)\n",
    "\n",
    "\n",
    "# close database connection\n",
    "finally:\n",
    "    if conn:\n",
    "        conn.close()\n",
    "        print(\"The SQLite connection is closed\")"
   ]
  },
  {
   "cell_type": "code",
   "execution_count": null,
   "metadata": {},
   "outputs": [],
   "source": [
    "# Access Table\n",
    "access_df.shape # (3143, 44)\n",
    "# Show columns with missing data \n",
    "display(access_df.isnull().sum()[access_df.isnull().sum() > 0].sort_values(ascending=False))\n",
    "# drop rows with missing data\n",
    "access_df.dropna(inplace=True)\n",
    "access_df.shape  # 40 rows dropped\n",
    "\n",
    "# # Five_hundred_cities Table\n",
    "five_hundred_cities_df.shape #(27210, 63)\n",
    "# Show columns with missing data \n",
    "display(five_hundred_cities_df.isnull().sum()[five_hundred_cities_df.isnull().sum() > 0])\n",
    "\n",
    "# update five_hundred_city df to only potential include columns of interest: \n",
    "five_hundred_cities_clean = five_hundred_cities_df[['PlaceName', 'StateAbbr', 'PlaceFIPS', 'TractFIPS', 'Population2010', 'BPHIGH_CrudePrev', 'CANCER_CrudePrev', 'DIABETES_CrudePrev', 'HIGHCHOL_CrudePrev', 'OBESITY_CrudePrev']]\n",
    "display(five_hundred_cities_clean.head())"
   ]
  },
  {
   "attachments": {},
   "cell_type": "markdown",
   "metadata": {},
   "source": [
    "### Prep FIPS codes for join compatibility \n",
    "Prep dataframes for joins. \n",
    "In the Access database, the FIPS code is 5 characater standard code (state(2)+county(3)), but in the 500 cities the FIPS code are Place and Census tract, so this section explores how I can create a common key for the joins in the analysis."
   ]
  },
  {
   "cell_type": "code",
   "execution_count": null,
   "metadata": {},
   "outputs": [],
   "source": [
    "pd.options.display.max_rows = 20\n",
    "\n",
    "# access_df: lenfth of value the FIPS column\n",
    "display(access_df['FIPS'].astype(str).str.len().value_counts()) \n",
    "\n",
    "# Check rows that aren't five 5 characters long\n",
    "display(access_df[access_df['FIPS'].astype(str).str.len() != 5])  #  no leading 0 for the state fips under 10 \n",
    "\n",
    "# add a leading 0 to any FIPS that is less than 5 characters long in the access_df\n",
    "access_df['FIPS'] = access_df['FIPS'].apply(lambda x: '{0:0>5}'.format(x))\n",
    "display(access_df['FIPS'])\n",
    "\n",
    "# five_hundred_cities_df: length of the integer stored in the TractFIPS column \n",
    "display(five_hundred_cities_df['TractFIPS'].astype(str).str.len().value_counts())\n",
    "\n",
    "# Check rows that aren't 11 characters long\n",
    "display(five_hundred_cities_df[five_hundred_cities_df['TractFIPS'].astype(str).str.len() != 11])\n",
    "\n",
    "# add a leading 0 to any TractFIPS that is less than 11 characters long in the five_hundred_cities_df\n",
    "five_hundred_cities_df['TractFIPS'] = five_hundred_cities_df['TractFIPS'].apply(lambda x: '{0:0>11}'.format(x))\n",
    "\n",
    "#check work \n",
    "display(five_hundred_cities_df['TractFIPS'])\n",
    "display(five_hundred_cities_df.head())\n",
    "\n",
    "# Now that all the FIPS are the same length, create a new column in the five_hundred_cities_df named FIPS that is the first 5 characters of the TractFIPS column, \n",
    "# and position it in the dataframe before the PlaceFIPS column. Based on external research that TractFIPS = StateFIPS (2) + CountyFIPS (3) + TractFIPS (6)\n",
    "five_hundred_cities_df.insert(2, 'FIPS', five_hundred_cities_df['TractFIPS'].str[:5])\n",
    "\n",
    "#check work\n",
    "display(five_hundred_cities_df.head())\n"
   ]
  },
  {
   "attachments": {},
   "cell_type": "markdown",
   "metadata": {},
   "source": [
    "### Updated DB for SQL Queries\n",
    "\n",
    "I would have considered doing the analysis in python, but am going to recomit to a database to demonstrate some SQL queries. "
   ]
  },
  {
   "cell_type": "code",
   "execution_count": null,
   "metadata": {},
   "outputs": [],
   "source": [
    "# Create an updated database with the cleaned dataframes: access_df, five_hundred_cities_df, variable_list_df\n",
    "\n",
    "conn = None\n",
    "try:\n",
    "    # create a new database\n",
    "    conn = sqlite3.connect('cleaned_challenge_new.db')\n",
    "    # create a cursor\n",
    "    cur = conn.cursor()\n",
    "\n",
    "    # fill the database with the cleaned dataframes\n",
    "    access_df.to_sql('access_clean', conn, if_exists='replace', index=False)\n",
    "    five_hundred_cities_df.to_sql('five_hundred_cities_clean', conn, if_exists='replace', index=False)\n",
    "    variable_list_df.to_sql('variable_list', conn, if_exists='replace', index=False)\n",
    "\n",
    "except Error as e: \n",
    "  print(e)\n",
    "\n",
    "# quick test \n",
    "query = '''SELECT *\n",
    "FROM access_clean LIMIT 5'''\n",
    "test = pd.read_sql_query(query, conn)\n",
    "display(test)\n",
    "\n",
    "query2 = '''SELECT * FROM five_hundred_cities_clean LIMIT 5'''\n",
    "test2 = pd.read_sql_query(query2, conn)\n",
    "display(test2)\n",
    "\n",
    "# join the access_df and the five_hundred_cities_df on the FIPS column \n",
    "county_summary_fivehund = '''\n",
    "CREATE VIEW county_view_five AS\n",
    "SELECT FIPS,\n",
    "      SUM(POPULATION2010) as Tot_Pop_2010, \n",
    "      AVG(BPHIGH_CrudePrev) as Avg_BPHIGH_prev, \n",
    "      AVG(CANCER_CrudePrev) as Avg_CANCER_prev, \n",
    "      AVG(DIABETES_CrudePrev) as Avg_DIABETES_prev, \n",
    "      AVG(HIGHCHOL_CrudePrev) as Avg_HIGHCHOL_prev,\n",
    "      AVG(OBESITY_CrudePrev) as Avg_OBESITY_prev\n",
    "FROM five_hundred_cities_clean\n",
    "GROUP BY FIPS'''\n",
    "\n",
    "query3 = '''SELECT * FROM county_view_five LIMIT 5'''\n",
    "test3 = pd.read_sql_query(query3, conn)\n",
    "display(test3)"
   ]
  },
  {
   "attachments": {},
   "cell_type": "markdown",
   "metadata": {},
   "source": [
    "### 1: Location\n",
    "Figure out which counties are most impacted by food insecurity currently and have the highest rates of chronic conditions"
   ]
  },
  {
   "cell_type": "code",
   "execution_count": 14,
   "metadata": {},
   "outputs": [
    {
     "data": {
      "text/html": [
       "<div>\n",
       "<style scoped>\n",
       "    .dataframe tbody tr th:only-of-type {\n",
       "        vertical-align: middle;\n",
       "    }\n",
       "\n",
       "    .dataframe tbody tr th {\n",
       "        vertical-align: top;\n",
       "    }\n",
       "\n",
       "    .dataframe thead th {\n",
       "        text-align: right;\n",
       "    }\n",
       "</style>\n",
       "<table border=\"1\" class=\"dataframe\">\n",
       "  <thead>\n",
       "    <tr style=\"text-align: right;\">\n",
       "      <th></th>\n",
       "      <th>tot_Store_Access</th>\n",
       "    </tr>\n",
       "  </thead>\n",
       "  <tbody>\n",
       "    <tr>\n",
       "      <th>0</th>\n",
       "      <td>415081.782362</td>\n",
       "    </tr>\n",
       "  </tbody>\n",
       "</table>\n",
       "</div>"
      ],
      "text/plain": [
       "   tot_Store_Access\n",
       "0     415081.782362"
      ]
     },
     "metadata": {},
     "output_type": "display_data"
    },
    {
     "data": {
      "text/html": [
       "<div>\n",
       "<style scoped>\n",
       "    .dataframe tbody tr th:only-of-type {\n",
       "        vertical-align: middle;\n",
       "    }\n",
       "\n",
       "    .dataframe tbody tr th {\n",
       "        vertical-align: top;\n",
       "    }\n",
       "\n",
       "    .dataframe thead th {\n",
       "        text-align: right;\n",
       "    }\n",
       "</style>\n",
       "<table border=\"1\" class=\"dataframe\">\n",
       "  <thead>\n",
       "    <tr style=\"text-align: right;\">\n",
       "      <th></th>\n",
       "      <th>FIPS</th>\n",
       "      <th>State</th>\n",
       "      <th>County</th>\n",
       "      <th>LACCESS_SENIORS15</th>\n",
       "      <th>PCH_LACCESS_POP_10_15</th>\n",
       "    </tr>\n",
       "  </thead>\n",
       "  <tbody>\n",
       "    <tr>\n",
       "      <th>0</th>\n",
       "      <td>04013</td>\n",
       "      <td>AZ</td>\n",
       "      <td>Maricopa</td>\n",
       "      <td>86014.561483</td>\n",
       "      <td>3.846261</td>\n",
       "    </tr>\n",
       "    <tr>\n",
       "      <th>1</th>\n",
       "      <td>06037</td>\n",
       "      <td>CA</td>\n",
       "      <td>Los Angeles</td>\n",
       "      <td>81045.209700</td>\n",
       "      <td>1.494213</td>\n",
       "    </tr>\n",
       "    <tr>\n",
       "      <th>2</th>\n",
       "      <td>06065</td>\n",
       "      <td>CA</td>\n",
       "      <td>Riverside</td>\n",
       "      <td>57464.459770</td>\n",
       "      <td>0.891339</td>\n",
       "    </tr>\n",
       "    <tr>\n",
       "      <th>3</th>\n",
       "      <td>47157</td>\n",
       "      <td>TN</td>\n",
       "      <td>Shelby</td>\n",
       "      <td>25966.765542</td>\n",
       "      <td>7.539677</td>\n",
       "    </tr>\n",
       "    <tr>\n",
       "      <th>4</th>\n",
       "      <td>12105</td>\n",
       "      <td>FL</td>\n",
       "      <td>Polk</td>\n",
       "      <td>37116.505055</td>\n",
       "      <td>4.047739</td>\n",
       "    </tr>\n",
       "    <tr>\n",
       "      <th>...</th>\n",
       "      <td>...</td>\n",
       "      <td>...</td>\n",
       "      <td>...</td>\n",
       "      <td>...</td>\n",
       "      <td>...</td>\n",
       "    </tr>\n",
       "    <tr>\n",
       "      <th>45</th>\n",
       "      <td>42049</td>\n",
       "      <td>PA</td>\n",
       "      <td>Erie</td>\n",
       "      <td>10806.511685</td>\n",
       "      <td>1.701662</td>\n",
       "    </tr>\n",
       "    <tr>\n",
       "      <th>46</th>\n",
       "      <td>39093</td>\n",
       "      <td>OH</td>\n",
       "      <td>Lorain</td>\n",
       "      <td>11917.072123</td>\n",
       "      <td>5.179071</td>\n",
       "    </tr>\n",
       "    <tr>\n",
       "      <th>47</th>\n",
       "      <td>45019</td>\n",
       "      <td>SC</td>\n",
       "      <td>Charleston</td>\n",
       "      <td>7810.807281</td>\n",
       "      <td>5.732911</td>\n",
       "    </tr>\n",
       "    <tr>\n",
       "      <th>48</th>\n",
       "      <td>26077</td>\n",
       "      <td>MI</td>\n",
       "      <td>Kalamazoo</td>\n",
       "      <td>7593.815193</td>\n",
       "      <td>3.004567</td>\n",
       "    </tr>\n",
       "    <tr>\n",
       "      <th>49</th>\n",
       "      <td>35045</td>\n",
       "      <td>NM</td>\n",
       "      <td>San Juan</td>\n",
       "      <td>5037.436535</td>\n",
       "      <td>15.663877</td>\n",
       "    </tr>\n",
       "  </tbody>\n",
       "</table>\n",
       "<p>50 rows × 5 columns</p>\n",
       "</div>"
      ],
      "text/plain": [
       "     FIPS State       County  LACCESS_SENIORS15  PCH_LACCESS_POP_10_15\n",
       "0   04013    AZ     Maricopa       86014.561483               3.846261\n",
       "1   06037    CA  Los Angeles       81045.209700               1.494213\n",
       "2   06065    CA    Riverside       57464.459770               0.891339\n",
       "3   47157    TN       Shelby       25966.765542               7.539677\n",
       "4   12105    FL         Polk       37116.505055               4.047739\n",
       "..    ...   ...          ...                ...                    ...\n",
       "45  42049    PA         Erie       10806.511685               1.701662\n",
       "46  39093    OH       Lorain       11917.072123               5.179071\n",
       "47  45019    SC   Charleston        7810.807281               5.732911\n",
       "48  26077    MI    Kalamazoo        7593.815193               3.004567\n",
       "49  35045    NM     San Juan        5037.436535              15.663877\n",
       "\n",
       "[50 rows x 5 columns]"
      ]
     },
     "metadata": {},
     "output_type": "display_data"
    },
    {
     "data": {
      "text/html": [
       "<div>\n",
       "<style scoped>\n",
       "    .dataframe tbody tr th:only-of-type {\n",
       "        vertical-align: middle;\n",
       "    }\n",
       "\n",
       "    .dataframe tbody tr th {\n",
       "        vertical-align: top;\n",
       "    }\n",
       "\n",
       "    .dataframe thead th {\n",
       "        text-align: right;\n",
       "    }\n",
       "</style>\n",
       "<table border=\"1\" class=\"dataframe\">\n",
       "  <thead>\n",
       "    <tr style=\"text-align: right;\">\n",
       "      <th></th>\n",
       "      <th>FIPS</th>\n",
       "      <th>State</th>\n",
       "      <th>County</th>\n",
       "      <th>DIABETES_CrudePrev</th>\n",
       "      <th>HIGHCHOL_CrudePrev</th>\n",
       "      <th>OBESITY_CrudePrev</th>\n",
       "      <th>Burden_Proxy</th>\n",
       "    </tr>\n",
       "  </thead>\n",
       "  <tbody>\n",
       "    <tr>\n",
       "      <th>0</th>\n",
       "      <td>36081</td>\n",
       "      <td>NY</td>\n",
       "      <td>Queens</td>\n",
       "      <td>39.5</td>\n",
       "      <td>55.4</td>\n",
       "      <td>41.0</td>\n",
       "      <td>135.9</td>\n",
       "    </tr>\n",
       "    <tr>\n",
       "      <th>1</th>\n",
       "      <td>39035</td>\n",
       "      <td>OH</td>\n",
       "      <td>Cuyahoga</td>\n",
       "      <td>36.1</td>\n",
       "      <td>44.8</td>\n",
       "      <td>53.7</td>\n",
       "      <td>134.6</td>\n",
       "    </tr>\n",
       "    <tr>\n",
       "      <th>2</th>\n",
       "      <td>01097</td>\n",
       "      <td>AL</td>\n",
       "      <td>Mobile</td>\n",
       "      <td>33.1</td>\n",
       "      <td>46.2</td>\n",
       "      <td>54.2</td>\n",
       "      <td>133.5</td>\n",
       "    </tr>\n",
       "    <tr>\n",
       "      <th>3</th>\n",
       "      <td>39113</td>\n",
       "      <td>OH</td>\n",
       "      <td>Montgomery</td>\n",
       "      <td>34.9</td>\n",
       "      <td>46.4</td>\n",
       "      <td>49.9</td>\n",
       "      <td>131.2</td>\n",
       "    </tr>\n",
       "    <tr>\n",
       "      <th>4</th>\n",
       "      <td>47065</td>\n",
       "      <td>TN</td>\n",
       "      <td>Hamilton</td>\n",
       "      <td>31.4</td>\n",
       "      <td>47.8</td>\n",
       "      <td>51.6</td>\n",
       "      <td>130.8</td>\n",
       "    </tr>\n",
       "    <tr>\n",
       "      <th>...</th>\n",
       "      <td>...</td>\n",
       "      <td>...</td>\n",
       "      <td>...</td>\n",
       "      <td>...</td>\n",
       "      <td>...</td>\n",
       "      <td>...</td>\n",
       "      <td>...</td>\n",
       "    </tr>\n",
       "    <tr>\n",
       "      <th>45</th>\n",
       "      <td>42049</td>\n",
       "      <td>PA</td>\n",
       "      <td>Erie</td>\n",
       "      <td>24.3</td>\n",
       "      <td>47.9</td>\n",
       "      <td>46.9</td>\n",
       "      <td>119.1</td>\n",
       "    </tr>\n",
       "    <tr>\n",
       "      <th>46</th>\n",
       "      <td>39095</td>\n",
       "      <td>OH</td>\n",
       "      <td>Lucas</td>\n",
       "      <td>25.0</td>\n",
       "      <td>37.0</td>\n",
       "      <td>57.0</td>\n",
       "      <td>119.0</td>\n",
       "    </tr>\n",
       "    <tr>\n",
       "      <th>47</th>\n",
       "      <td>22017</td>\n",
       "      <td>LA</td>\n",
       "      <td>Caddo</td>\n",
       "      <td>26.2</td>\n",
       "      <td>41.9</td>\n",
       "      <td>50.7</td>\n",
       "      <td>118.8</td>\n",
       "    </tr>\n",
       "    <tr>\n",
       "      <th>48</th>\n",
       "      <td>40109</td>\n",
       "      <td>OK</td>\n",
       "      <td>Oklahoma</td>\n",
       "      <td>24.4</td>\n",
       "      <td>44.3</td>\n",
       "      <td>50.1</td>\n",
       "      <td>118.8</td>\n",
       "    </tr>\n",
       "    <tr>\n",
       "      <th>49</th>\n",
       "      <td>39113</td>\n",
       "      <td>OH</td>\n",
       "      <td>Montgomery</td>\n",
       "      <td>26.3</td>\n",
       "      <td>37.2</td>\n",
       "      <td>55.2</td>\n",
       "      <td>118.7</td>\n",
       "    </tr>\n",
       "  </tbody>\n",
       "</table>\n",
       "<p>50 rows × 7 columns</p>\n",
       "</div>"
      ],
      "text/plain": [
       "     FIPS State      County  DIABETES_CrudePrev  HIGHCHOL_CrudePrev  \\\n",
       "0   36081    NY      Queens                39.5                55.4   \n",
       "1   39035    OH    Cuyahoga                36.1                44.8   \n",
       "2   01097    AL      Mobile                33.1                46.2   \n",
       "3   39113    OH  Montgomery                34.9                46.4   \n",
       "4   47065    TN    Hamilton                31.4                47.8   \n",
       "..    ...   ...         ...                 ...                 ...   \n",
       "45  42049    PA        Erie                24.3                47.9   \n",
       "46  39095    OH       Lucas                25.0                37.0   \n",
       "47  22017    LA       Caddo                26.2                41.9   \n",
       "48  40109    OK    Oklahoma                24.4                44.3   \n",
       "49  39113    OH  Montgomery                26.3                37.2   \n",
       "\n",
       "    OBESITY_CrudePrev  Burden_Proxy  \n",
       "0                41.0         135.9  \n",
       "1                53.7         134.6  \n",
       "2                54.2         133.5  \n",
       "3                49.9         131.2  \n",
       "4                51.6         130.8  \n",
       "..                ...           ...  \n",
       "45               46.9         119.1  \n",
       "46               57.0         119.0  \n",
       "47               50.7         118.8  \n",
       "48               50.1         118.8  \n",
       "49               55.2         118.7  \n",
       "\n",
       "[50 rows x 7 columns]"
      ]
     },
     "metadata": {},
     "output_type": "display_data"
    },
    {
     "data": {
      "text/html": [
       "<div>\n",
       "<style scoped>\n",
       "    .dataframe tbody tr th:only-of-type {\n",
       "        vertical-align: middle;\n",
       "    }\n",
       "\n",
       "    .dataframe tbody tr th {\n",
       "        vertical-align: top;\n",
       "    }\n",
       "\n",
       "    .dataframe thead th {\n",
       "        text-align: right;\n",
       "    }\n",
       "</style>\n",
       "<table border=\"1\" class=\"dataframe\">\n",
       "  <thead>\n",
       "    <tr style=\"text-align: right;\">\n",
       "      <th></th>\n",
       "      <th>FIPS</th>\n",
       "      <th>State</th>\n",
       "      <th>County</th>\n",
       "      <th>Senior_Low_Store_Access</th>\n",
       "      <th>Burden_Proxy</th>\n",
       "    </tr>\n",
       "  </thead>\n",
       "  <tbody>\n",
       "    <tr>\n",
       "      <th>0</th>\n",
       "      <td>01101</td>\n",
       "      <td>AL</td>\n",
       "      <td>Montgomery</td>\n",
       "      <td>20530.592895</td>\n",
       "      <td>370.0</td>\n",
       "    </tr>\n",
       "    <tr>\n",
       "      <th>1</th>\n",
       "      <td>18089</td>\n",
       "      <td>IN</td>\n",
       "      <td>Lake</td>\n",
       "      <td>94566.034606</td>\n",
       "      <td>607.4</td>\n",
       "    </tr>\n",
       "    <tr>\n",
       "      <th>2</th>\n",
       "      <td>39035</td>\n",
       "      <td>OH</td>\n",
       "      <td>Cuyahoga</td>\n",
       "      <td>218770.596097</td>\n",
       "      <td>635.5</td>\n",
       "    </tr>\n",
       "    <tr>\n",
       "      <th>3</th>\n",
       "      <td>39061</td>\n",
       "      <td>OH</td>\n",
       "      <td>Hamilton</td>\n",
       "      <td>32824.605356</td>\n",
       "      <td>124.4</td>\n",
       "    </tr>\n",
       "    <tr>\n",
       "      <th>4</th>\n",
       "      <td>39151</td>\n",
       "      <td>OH</td>\n",
       "      <td>Stark</td>\n",
       "      <td>17205.424178</td>\n",
       "      <td>126.5</td>\n",
       "    </tr>\n",
       "    <tr>\n",
       "      <th>5</th>\n",
       "      <td>42049</td>\n",
       "      <td>PA</td>\n",
       "      <td>Erie</td>\n",
       "      <td>10806.511685</td>\n",
       "      <td>119.1</td>\n",
       "    </tr>\n",
       "    <tr>\n",
       "      <th>6</th>\n",
       "      <td>47065</td>\n",
       "      <td>TN</td>\n",
       "      <td>Hamilton</td>\n",
       "      <td>20378.017545</td>\n",
       "      <td>130.8</td>\n",
       "    </tr>\n",
       "  </tbody>\n",
       "</table>\n",
       "</div>"
      ],
      "text/plain": [
       "    FIPS State      County  Senior_Low_Store_Access  Burden_Proxy\n",
       "0  01101    AL  Montgomery             20530.592895         370.0\n",
       "1  18089    IN        Lake             94566.034606         607.4\n",
       "2  39035    OH    Cuyahoga            218770.596097         635.5\n",
       "3  39061    OH    Hamilton             32824.605356         124.4\n",
       "4  39151    OH       Stark             17205.424178         126.5\n",
       "5  42049    PA        Erie             10806.511685         119.1\n",
       "6  47065    TN    Hamilton             20378.017545         130.8"
      ]
     },
     "metadata": {},
     "output_type": "display_data"
    }
   ],
   "source": [
    "\n",
    "# find the top fifty counties with the highest number of low income seniors who are limited in their access to stores, only include counties\n",
    "# where the trend of people having lower access to stores is increasing from 2010 to 2015.\n",
    "\n",
    "sql_location = '''\n",
    "SELECT FIPS, \n",
    "    State, \n",
    "    County, \n",
    "    LACCESS_SENIORS15, \n",
    "    PCH_LACCESS_POP_10_15\n",
    "FROM access_clean\n",
    "Where PCH_LACCESS_POP_10_15 > 0 and LACCESS_LOWI15 > 5000\n",
    "ORDER BY LACCESS_LOWI15  DESC\n",
    "LIMIT 50\n",
    "'''\n",
    "\n",
    "# Among the top 50 counties with the highest number of low income sneior who are limited in their access to stores, which have the highest prevalence of obesity, \n",
    "# high cholesterol, and diabetes. \n",
    "\n",
    "sql_location2 = '''\n",
    "SELECT a.FIPS, \n",
    "    State, \n",
    "    County, \n",
    "    DIABETES_CrudePrev,\n",
    "    HIGHCHOL_CrudePrev,\n",
    "    OBESITY_CrudePrev,\n",
    "    DIABETES_CrudePrev + HIGHCHOL_CrudePrev + OBESITY_CrudePrev as Burden_Proxy\n",
    "FROM access_clean a JOIN five_hundred_cities_clean c ON a.FIPS = c.FIPS\n",
    "ORDER BY Burden_Proxy DESC\n",
    "LIMIT 50\n",
    "'''\n",
    "\n",
    "\n",
    "# For the final pilot program launch, where do these two cohorts intersect? Looking to launch in the counties with the greatet need and the greatest burden of chronic disease\n",
    "# in order to optimize the impact of the program.\n",
    "\n",
    "sql_location3 = '''\n",
    "SELECT a.FIPS,\n",
    "    a.State,\n",
    "    a.County,\n",
    "    sum(a.LACCESS_SENIORS15) as Senior_Low_Store_Access,\n",
    "    sum(b.Burden_Proxy) as Burden_Proxy\n",
    "FROM (''' + sql_location + ''') a JOIN (''' + sql_location2 + ''') b ON a.FIPS = b.FIPS\n",
    "GROUP BY a.FIPS\n",
    "'''\n",
    "\n",
    "sql_location3_tot ='''\n",
    "SELECT sum(Senior_Low_Store_Access) as tot_Store_Access\n",
    "FROM (''' + sql_location3 + ''')\n",
    "'''\n",
    "\n",
    "sql_location3_tot_df = pd.read_sql_query(sql_location3_tot, conn)\n",
    "display(sql_location3_tot_df)\n",
    "\n",
    "sql_location_df = pd.read_sql_query(sql_location, conn)\n",
    "display(sql_location_df)\n",
    "\n",
    "sql_location2_df = pd.read_sql_query(sql_location2, conn)\n",
    "display(sql_location2_df)\n",
    "\n",
    "sql_location3_df = pd.read_sql_query(sql_location3, conn)\n",
    "display(sql_location3_df)\n",
    "\n",
    "final_fips = sql_location3_df['FIPS'].tolist() # 7 Counties \n",
    "\n",
    "\n"
   ]
  },
  {
   "attachments": {},
   "cell_type": "markdown",
   "metadata": {},
   "source": [
    "### Visualization 1: Map Pilot Program Launch\n",
    "\n"
   ]
  },
  {
   "cell_type": "code",
   "execution_count": 15,
   "metadata": {},
   "outputs": [
    {
     "data": {
      "application/vnd.plotly.v1+json": {
       "config": {
        "plotlyServerURL": "https://plot.ly"
       },
       "data": [
        {
         "coloraxis": "coloraxis",
         "customdata": [
          [
           "AL",
           20530.59289489872,
           370
          ],
          [
           "IN",
           94566.034606062,
           607.4000000000001
          ],
          [
           "OH",
           218770.59609708498,
           635.5
          ],
          [
           "OH",
           32824.6053558333,
           124.4
          ],
          [
           "OH",
           17205.424177983,
           126.5
          ],
          [
           "PA",
           10806.5116850049,
           119.1
          ],
          [
           "TN",
           20378.0175447908,
           130.79999999999998
          ]
         ],
         "geo": "geo",
         "hovertemplate": "<b>%{hovertext}</b><br><br>State=%{customdata[0]}<br>Senior_Low_Store_Access=%{z}<br>Burden_Proxy=%{customdata[2]}<extra></extra>",
         "hovertext": [
          "Montgomery",
          "Lake",
          "Cuyahoga",
          "Hamilton",
          "Stark",
          "Erie",
          "Hamilton"
         ],
         "locationmode": "USA-states",
         "locations": [
          "AL",
          "IN",
          "OH",
          "OH",
          "OH",
          "PA",
          "TN"
         ],
         "name": "",
         "type": "choropleth",
         "z": [
          20530.59289489872,
          94566.034606062,
          218770.59609708498,
          32824.6053558333,
          17205.424177983,
          10806.5116850049,
          20378.0175447908
         ]
        }
       ],
       "layout": {
        "coloraxis": {
         "colorbar": {
          "title": {
           "text": "Senior_Low_Store_Access"
          }
         },
         "colorscale": [
          [
           0,
           "#fde725"
          ],
          [
           0.1111111111111111,
           "#b5de2b"
          ],
          [
           0.2222222222222222,
           "#6ece58"
          ],
          [
           0.3333333333333333,
           "#35b779"
          ],
          [
           0.4444444444444444,
           "#1f9e89"
          ],
          [
           0.5555555555555556,
           "#26828e"
          ],
          [
           0.6666666666666666,
           "#31688e"
          ],
          [
           0.7777777777777778,
           "#3e4989"
          ],
          [
           0.8888888888888888,
           "#482878"
          ],
          [
           1,
           "#440154"
          ]
         ]
        },
        "geo": {
         "center": {},
         "domain": {
          "x": [
           0,
           1
          ],
          "y": [
           0,
           1
          ]
         },
         "scope": "usa"
        },
        "legend": {
         "tracegroupgap": 0
        },
        "margin": {
         "t": 60
        },
        "template": {
         "data": {
          "bar": [
           {
            "error_x": {
             "color": "#2a3f5f"
            },
            "error_y": {
             "color": "#2a3f5f"
            },
            "marker": {
             "line": {
              "color": "#E5ECF6",
              "width": 0.5
             },
             "pattern": {
              "fillmode": "overlay",
              "size": 10,
              "solidity": 0.2
             }
            },
            "type": "bar"
           }
          ],
          "barpolar": [
           {
            "marker": {
             "line": {
              "color": "#E5ECF6",
              "width": 0.5
             },
             "pattern": {
              "fillmode": "overlay",
              "size": 10,
              "solidity": 0.2
             }
            },
            "type": "barpolar"
           }
          ],
          "carpet": [
           {
            "aaxis": {
             "endlinecolor": "#2a3f5f",
             "gridcolor": "white",
             "linecolor": "white",
             "minorgridcolor": "white",
             "startlinecolor": "#2a3f5f"
            },
            "baxis": {
             "endlinecolor": "#2a3f5f",
             "gridcolor": "white",
             "linecolor": "white",
             "minorgridcolor": "white",
             "startlinecolor": "#2a3f5f"
            },
            "type": "carpet"
           }
          ],
          "choropleth": [
           {
            "colorbar": {
             "outlinewidth": 0,
             "ticks": ""
            },
            "type": "choropleth"
           }
          ],
          "contour": [
           {
            "colorbar": {
             "outlinewidth": 0,
             "ticks": ""
            },
            "colorscale": [
             [
              0,
              "#0d0887"
             ],
             [
              0.1111111111111111,
              "#46039f"
             ],
             [
              0.2222222222222222,
              "#7201a8"
             ],
             [
              0.3333333333333333,
              "#9c179e"
             ],
             [
              0.4444444444444444,
              "#bd3786"
             ],
             [
              0.5555555555555556,
              "#d8576b"
             ],
             [
              0.6666666666666666,
              "#ed7953"
             ],
             [
              0.7777777777777778,
              "#fb9f3a"
             ],
             [
              0.8888888888888888,
              "#fdca26"
             ],
             [
              1,
              "#f0f921"
             ]
            ],
            "type": "contour"
           }
          ],
          "contourcarpet": [
           {
            "colorbar": {
             "outlinewidth": 0,
             "ticks": ""
            },
            "type": "contourcarpet"
           }
          ],
          "heatmap": [
           {
            "colorbar": {
             "outlinewidth": 0,
             "ticks": ""
            },
            "colorscale": [
             [
              0,
              "#0d0887"
             ],
             [
              0.1111111111111111,
              "#46039f"
             ],
             [
              0.2222222222222222,
              "#7201a8"
             ],
             [
              0.3333333333333333,
              "#9c179e"
             ],
             [
              0.4444444444444444,
              "#bd3786"
             ],
             [
              0.5555555555555556,
              "#d8576b"
             ],
             [
              0.6666666666666666,
              "#ed7953"
             ],
             [
              0.7777777777777778,
              "#fb9f3a"
             ],
             [
              0.8888888888888888,
              "#fdca26"
             ],
             [
              1,
              "#f0f921"
             ]
            ],
            "type": "heatmap"
           }
          ],
          "heatmapgl": [
           {
            "colorbar": {
             "outlinewidth": 0,
             "ticks": ""
            },
            "colorscale": [
             [
              0,
              "#0d0887"
             ],
             [
              0.1111111111111111,
              "#46039f"
             ],
             [
              0.2222222222222222,
              "#7201a8"
             ],
             [
              0.3333333333333333,
              "#9c179e"
             ],
             [
              0.4444444444444444,
              "#bd3786"
             ],
             [
              0.5555555555555556,
              "#d8576b"
             ],
             [
              0.6666666666666666,
              "#ed7953"
             ],
             [
              0.7777777777777778,
              "#fb9f3a"
             ],
             [
              0.8888888888888888,
              "#fdca26"
             ],
             [
              1,
              "#f0f921"
             ]
            ],
            "type": "heatmapgl"
           }
          ],
          "histogram": [
           {
            "marker": {
             "pattern": {
              "fillmode": "overlay",
              "size": 10,
              "solidity": 0.2
             }
            },
            "type": "histogram"
           }
          ],
          "histogram2d": [
           {
            "colorbar": {
             "outlinewidth": 0,
             "ticks": ""
            },
            "colorscale": [
             [
              0,
              "#0d0887"
             ],
             [
              0.1111111111111111,
              "#46039f"
             ],
             [
              0.2222222222222222,
              "#7201a8"
             ],
             [
              0.3333333333333333,
              "#9c179e"
             ],
             [
              0.4444444444444444,
              "#bd3786"
             ],
             [
              0.5555555555555556,
              "#d8576b"
             ],
             [
              0.6666666666666666,
              "#ed7953"
             ],
             [
              0.7777777777777778,
              "#fb9f3a"
             ],
             [
              0.8888888888888888,
              "#fdca26"
             ],
             [
              1,
              "#f0f921"
             ]
            ],
            "type": "histogram2d"
           }
          ],
          "histogram2dcontour": [
           {
            "colorbar": {
             "outlinewidth": 0,
             "ticks": ""
            },
            "colorscale": [
             [
              0,
              "#0d0887"
             ],
             [
              0.1111111111111111,
              "#46039f"
             ],
             [
              0.2222222222222222,
              "#7201a8"
             ],
             [
              0.3333333333333333,
              "#9c179e"
             ],
             [
              0.4444444444444444,
              "#bd3786"
             ],
             [
              0.5555555555555556,
              "#d8576b"
             ],
             [
              0.6666666666666666,
              "#ed7953"
             ],
             [
              0.7777777777777778,
              "#fb9f3a"
             ],
             [
              0.8888888888888888,
              "#fdca26"
             ],
             [
              1,
              "#f0f921"
             ]
            ],
            "type": "histogram2dcontour"
           }
          ],
          "mesh3d": [
           {
            "colorbar": {
             "outlinewidth": 0,
             "ticks": ""
            },
            "type": "mesh3d"
           }
          ],
          "parcoords": [
           {
            "line": {
             "colorbar": {
              "outlinewidth": 0,
              "ticks": ""
             }
            },
            "type": "parcoords"
           }
          ],
          "pie": [
           {
            "automargin": true,
            "type": "pie"
           }
          ],
          "scatter": [
           {
            "marker": {
             "colorbar": {
              "outlinewidth": 0,
              "ticks": ""
             }
            },
            "type": "scatter"
           }
          ],
          "scatter3d": [
           {
            "line": {
             "colorbar": {
              "outlinewidth": 0,
              "ticks": ""
             }
            },
            "marker": {
             "colorbar": {
              "outlinewidth": 0,
              "ticks": ""
             }
            },
            "type": "scatter3d"
           }
          ],
          "scattercarpet": [
           {
            "marker": {
             "colorbar": {
              "outlinewidth": 0,
              "ticks": ""
             }
            },
            "type": "scattercarpet"
           }
          ],
          "scattergeo": [
           {
            "marker": {
             "colorbar": {
              "outlinewidth": 0,
              "ticks": ""
             }
            },
            "type": "scattergeo"
           }
          ],
          "scattergl": [
           {
            "marker": {
             "colorbar": {
              "outlinewidth": 0,
              "ticks": ""
             }
            },
            "type": "scattergl"
           }
          ],
          "scattermapbox": [
           {
            "marker": {
             "colorbar": {
              "outlinewidth": 0,
              "ticks": ""
             }
            },
            "type": "scattermapbox"
           }
          ],
          "scatterpolar": [
           {
            "marker": {
             "colorbar": {
              "outlinewidth": 0,
              "ticks": ""
             }
            },
            "type": "scatterpolar"
           }
          ],
          "scatterpolargl": [
           {
            "marker": {
             "colorbar": {
              "outlinewidth": 0,
              "ticks": ""
             }
            },
            "type": "scatterpolargl"
           }
          ],
          "scatterternary": [
           {
            "marker": {
             "colorbar": {
              "outlinewidth": 0,
              "ticks": ""
             }
            },
            "type": "scatterternary"
           }
          ],
          "surface": [
           {
            "colorbar": {
             "outlinewidth": 0,
             "ticks": ""
            },
            "colorscale": [
             [
              0,
              "#0d0887"
             ],
             [
              0.1111111111111111,
              "#46039f"
             ],
             [
              0.2222222222222222,
              "#7201a8"
             ],
             [
              0.3333333333333333,
              "#9c179e"
             ],
             [
              0.4444444444444444,
              "#bd3786"
             ],
             [
              0.5555555555555556,
              "#d8576b"
             ],
             [
              0.6666666666666666,
              "#ed7953"
             ],
             [
              0.7777777777777778,
              "#fb9f3a"
             ],
             [
              0.8888888888888888,
              "#fdca26"
             ],
             [
              1,
              "#f0f921"
             ]
            ],
            "type": "surface"
           }
          ],
          "table": [
           {
            "cells": {
             "fill": {
              "color": "#EBF0F8"
             },
             "line": {
              "color": "white"
             }
            },
            "header": {
             "fill": {
              "color": "#C8D4E3"
             },
             "line": {
              "color": "white"
             }
            },
            "type": "table"
           }
          ]
         },
         "layout": {
          "annotationdefaults": {
           "arrowcolor": "#2a3f5f",
           "arrowhead": 0,
           "arrowwidth": 1
          },
          "autotypenumbers": "strict",
          "coloraxis": {
           "colorbar": {
            "outlinewidth": 0,
            "ticks": ""
           }
          },
          "colorscale": {
           "diverging": [
            [
             0,
             "#8e0152"
            ],
            [
             0.1,
             "#c51b7d"
            ],
            [
             0.2,
             "#de77ae"
            ],
            [
             0.3,
             "#f1b6da"
            ],
            [
             0.4,
             "#fde0ef"
            ],
            [
             0.5,
             "#f7f7f7"
            ],
            [
             0.6,
             "#e6f5d0"
            ],
            [
             0.7,
             "#b8e186"
            ],
            [
             0.8,
             "#7fbc41"
            ],
            [
             0.9,
             "#4d9221"
            ],
            [
             1,
             "#276419"
            ]
           ],
           "sequential": [
            [
             0,
             "#0d0887"
            ],
            [
             0.1111111111111111,
             "#46039f"
            ],
            [
             0.2222222222222222,
             "#7201a8"
            ],
            [
             0.3333333333333333,
             "#9c179e"
            ],
            [
             0.4444444444444444,
             "#bd3786"
            ],
            [
             0.5555555555555556,
             "#d8576b"
            ],
            [
             0.6666666666666666,
             "#ed7953"
            ],
            [
             0.7777777777777778,
             "#fb9f3a"
            ],
            [
             0.8888888888888888,
             "#fdca26"
            ],
            [
             1,
             "#f0f921"
            ]
           ],
           "sequentialminus": [
            [
             0,
             "#0d0887"
            ],
            [
             0.1111111111111111,
             "#46039f"
            ],
            [
             0.2222222222222222,
             "#7201a8"
            ],
            [
             0.3333333333333333,
             "#9c179e"
            ],
            [
             0.4444444444444444,
             "#bd3786"
            ],
            [
             0.5555555555555556,
             "#d8576b"
            ],
            [
             0.6666666666666666,
             "#ed7953"
            ],
            [
             0.7777777777777778,
             "#fb9f3a"
            ],
            [
             0.8888888888888888,
             "#fdca26"
            ],
            [
             1,
             "#f0f921"
            ]
           ]
          },
          "colorway": [
           "#636efa",
           "#EF553B",
           "#00cc96",
           "#ab63fa",
           "#FFA15A",
           "#19d3f3",
           "#FF6692",
           "#B6E880",
           "#FF97FF",
           "#FECB52"
          ],
          "font": {
           "color": "#2a3f5f"
          },
          "geo": {
           "bgcolor": "white",
           "lakecolor": "white",
           "landcolor": "#E5ECF6",
           "showlakes": true,
           "showland": true,
           "subunitcolor": "white"
          },
          "hoverlabel": {
           "align": "left"
          },
          "hovermode": "closest",
          "mapbox": {
           "style": "light"
          },
          "paper_bgcolor": "white",
          "plot_bgcolor": "#E5ECF6",
          "polar": {
           "angularaxis": {
            "gridcolor": "white",
            "linecolor": "white",
            "ticks": ""
           },
           "bgcolor": "#E5ECF6",
           "radialaxis": {
            "gridcolor": "white",
            "linecolor": "white",
            "ticks": ""
           }
          },
          "scene": {
           "xaxis": {
            "backgroundcolor": "#E5ECF6",
            "gridcolor": "white",
            "gridwidth": 2,
            "linecolor": "white",
            "showbackground": true,
            "ticks": "",
            "zerolinecolor": "white"
           },
           "yaxis": {
            "backgroundcolor": "#E5ECF6",
            "gridcolor": "white",
            "gridwidth": 2,
            "linecolor": "white",
            "showbackground": true,
            "ticks": "",
            "zerolinecolor": "white"
           },
           "zaxis": {
            "backgroundcolor": "#E5ECF6",
            "gridcolor": "white",
            "gridwidth": 2,
            "linecolor": "white",
            "showbackground": true,
            "ticks": "",
            "zerolinecolor": "white"
           }
          },
          "shapedefaults": {
           "line": {
            "color": "#2a3f5f"
           }
          },
          "ternary": {
           "aaxis": {
            "gridcolor": "white",
            "linecolor": "white",
            "ticks": ""
           },
           "baxis": {
            "gridcolor": "white",
            "linecolor": "white",
            "ticks": ""
           },
           "bgcolor": "#E5ECF6",
           "caxis": {
            "gridcolor": "white",
            "linecolor": "white",
            "ticks": ""
           }
          },
          "title": {
           "x": 0.05
          },
          "xaxis": {
           "automargin": true,
           "gridcolor": "white",
           "linecolor": "white",
           "ticks": "",
           "title": {
            "standoff": 15
           },
           "zerolinecolor": "white",
           "zerolinewidth": 2
          },
          "yaxis": {
           "automargin": true,
           "gridcolor": "white",
           "linecolor": "white",
           "ticks": "",
           "title": {
            "standoff": 15
           },
           "zerolinecolor": "white",
           "zerolinewidth": 2
          }
         }
        },
        "title": {
         "font": {
          "color": "black",
          "family": "Lato",
          "size": 16
         },
         "text": "Pilot Program Locations",
         "x": 0.45
        }
       }
      }
     },
     "metadata": {},
     "output_type": "display_data"
    }
   ],
   "source": [
    "import plotly.express as px\n",
    "\n",
    "fig = px.choropleth(sql_location3_df,\n",
    "                    locations='State', \n",
    "                    locationmode=\"USA-states\", \n",
    "                    scope=\"usa\",\n",
    "                    color='Senior_Low_Store_Access',\n",
    "                    color_continuous_scale=\"Viridis_r\",\n",
    "                    hover_name='County', \n",
    "                    hover_data=['State', 'Senior_Low_Store_Access', 'Burden_Proxy'],\n",
    "                    )\n",
    "\n",
    "fig.update_layout(\n",
    "      title_text = 'Pilot Program Locations',\n",
    "      title_font_family=\"Lato\",\n",
    "      title_font_size = 16,\n",
    "      title_font_color=\"black\", \n",
    "      title_x=0.45, \n",
    ")\n",
    "\n",
    "fig.show()"
   ]
  },
  {
   "attachments": {},
   "cell_type": "markdown",
   "metadata": {},
   "source": [
    "### 2: Program Reach and Impact\n",
    "\n",
    "Simplyfing Assumption: The program will target Medicare Advantage members, the majority of which are 65+. The analysis will assume that the designation of \"Seniors\" in the dataset indicate they are 65+. This analysis also assumes this specific Medicare Advantage plan has 50% of the market share.  "
   ]
  },
  {
   "cell_type": "code",
   "execution_count": 16,
   "metadata": {},
   "outputs": [
    {
     "data": {
      "text/html": [
       "<div>\n",
       "<style scoped>\n",
       "    .dataframe tbody tr th:only-of-type {\n",
       "        vertical-align: middle;\n",
       "    }\n",
       "\n",
       "    .dataframe tbody tr th {\n",
       "        vertical-align: top;\n",
       "    }\n",
       "\n",
       "    .dataframe thead th {\n",
       "        text-align: right;\n",
       "    }\n",
       "</style>\n",
       "<table border=\"1\" class=\"dataframe\">\n",
       "  <thead>\n",
       "    <tr style=\"text-align: right;\">\n",
       "      <th></th>\n",
       "      <th>FIPS</th>\n",
       "      <th>State</th>\n",
       "      <th>County</th>\n",
       "      <th>Senior_Low_Store_Access</th>\n",
       "      <th>avg_DIABETES_CrudePrev</th>\n",
       "      <th>avg_HIGHCHOL_CrudePrev</th>\n",
       "      <th>avg_OBESITY_CrudePrev</th>\n",
       "    </tr>\n",
       "  </thead>\n",
       "  <tbody>\n",
       "    <tr>\n",
       "      <th>0</th>\n",
       "      <td>01101</td>\n",
       "      <td>AL</td>\n",
       "      <td>Montgomery</td>\n",
       "      <td>20530.592895</td>\n",
       "      <td>28.20</td>\n",
       "      <td>42.466667</td>\n",
       "      <td>52.666667</td>\n",
       "    </tr>\n",
       "    <tr>\n",
       "      <th>1</th>\n",
       "      <td>18089</td>\n",
       "      <td>IN</td>\n",
       "      <td>Lake</td>\n",
       "      <td>94566.034606</td>\n",
       "      <td>28.20</td>\n",
       "      <td>40.420000</td>\n",
       "      <td>52.860000</td>\n",
       "    </tr>\n",
       "    <tr>\n",
       "      <th>2</th>\n",
       "      <td>39035</td>\n",
       "      <td>OH</td>\n",
       "      <td>Cuyahoga</td>\n",
       "      <td>218770.596097</td>\n",
       "      <td>32.12</td>\n",
       "      <td>41.680000</td>\n",
       "      <td>53.300000</td>\n",
       "    </tr>\n",
       "    <tr>\n",
       "      <th>3</th>\n",
       "      <td>39061</td>\n",
       "      <td>OH</td>\n",
       "      <td>Hamilton</td>\n",
       "      <td>32824.605356</td>\n",
       "      <td>30.00</td>\n",
       "      <td>40.400000</td>\n",
       "      <td>54.000000</td>\n",
       "    </tr>\n",
       "    <tr>\n",
       "      <th>4</th>\n",
       "      <td>39151</td>\n",
       "      <td>OH</td>\n",
       "      <td>Stark</td>\n",
       "      <td>17205.424178</td>\n",
       "      <td>27.80</td>\n",
       "      <td>45.900000</td>\n",
       "      <td>52.800000</td>\n",
       "    </tr>\n",
       "    <tr>\n",
       "      <th>5</th>\n",
       "      <td>42049</td>\n",
       "      <td>PA</td>\n",
       "      <td>Erie</td>\n",
       "      <td>10806.511685</td>\n",
       "      <td>24.30</td>\n",
       "      <td>47.900000</td>\n",
       "      <td>46.900000</td>\n",
       "    </tr>\n",
       "    <tr>\n",
       "      <th>6</th>\n",
       "      <td>47065</td>\n",
       "      <td>TN</td>\n",
       "      <td>Hamilton</td>\n",
       "      <td>20378.017545</td>\n",
       "      <td>31.40</td>\n",
       "      <td>47.800000</td>\n",
       "      <td>51.600000</td>\n",
       "    </tr>\n",
       "  </tbody>\n",
       "</table>\n",
       "</div>"
      ],
      "text/plain": [
       "    FIPS State      County  Senior_Low_Store_Access  avg_DIABETES_CrudePrev  \\\n",
       "0  01101    AL  Montgomery             20530.592895                   28.20   \n",
       "1  18089    IN        Lake             94566.034606                   28.20   \n",
       "2  39035    OH    Cuyahoga            218770.596097                   32.12   \n",
       "3  39061    OH    Hamilton             32824.605356                   30.00   \n",
       "4  39151    OH       Stark             17205.424178                   27.80   \n",
       "5  42049    PA        Erie             10806.511685                   24.30   \n",
       "6  47065    TN    Hamilton             20378.017545                   31.40   \n",
       "\n",
       "   avg_HIGHCHOL_CrudePrev  avg_OBESITY_CrudePrev  \n",
       "0               42.466667              52.666667  \n",
       "1               40.420000              52.860000  \n",
       "2               41.680000              53.300000  \n",
       "3               40.400000              54.000000  \n",
       "4               45.900000              52.800000  \n",
       "5               47.900000              46.900000  \n",
       "6               47.800000              51.600000  "
      ]
     },
     "metadata": {},
     "output_type": "display_data"
    },
    {
     "data": {
      "text/html": [
       "<div>\n",
       "<style scoped>\n",
       "    .dataframe tbody tr th:only-of-type {\n",
       "        vertical-align: middle;\n",
       "    }\n",
       "\n",
       "    .dataframe tbody tr th {\n",
       "        vertical-align: top;\n",
       "    }\n",
       "\n",
       "    .dataframe thead th {\n",
       "        text-align: right;\n",
       "    }\n",
       "</style>\n",
       "<table border=\"1\" class=\"dataframe\">\n",
       "  <thead>\n",
       "    <tr style=\"text-align: right;\">\n",
       "      <th></th>\n",
       "      <th>FIPS</th>\n",
       "      <th>State</th>\n",
       "      <th>County</th>\n",
       "      <th>Senior_Low_Store_Access</th>\n",
       "      <th>avg_DIABETES_CrudePrev</th>\n",
       "      <th>avg_HIGHCHOL_CrudePrev</th>\n",
       "      <th>avg_OBESITY_CrudePrev</th>\n",
       "      <th>Reach_Est</th>\n",
       "    </tr>\n",
       "  </thead>\n",
       "  <tbody>\n",
       "    <tr>\n",
       "      <th>0</th>\n",
       "      <td>01101</td>\n",
       "      <td>AL</td>\n",
       "      <td>Montgomery</td>\n",
       "      <td>20530.592895</td>\n",
       "      <td>28.20</td>\n",
       "      <td>42.466667</td>\n",
       "      <td>52.666667</td>\n",
       "      <td>10812.778925</td>\n",
       "    </tr>\n",
       "    <tr>\n",
       "      <th>1</th>\n",
       "      <td>18089</td>\n",
       "      <td>IN</td>\n",
       "      <td>Lake</td>\n",
       "      <td>94566.034606</td>\n",
       "      <td>28.20</td>\n",
       "      <td>40.420000</td>\n",
       "      <td>52.860000</td>\n",
       "      <td>49987.605893</td>\n",
       "    </tr>\n",
       "    <tr>\n",
       "      <th>2</th>\n",
       "      <td>39035</td>\n",
       "      <td>OH</td>\n",
       "      <td>Cuyahoga</td>\n",
       "      <td>218770.596097</td>\n",
       "      <td>32.12</td>\n",
       "      <td>41.680000</td>\n",
       "      <td>53.300000</td>\n",
       "      <td>116604.727720</td>\n",
       "    </tr>\n",
       "    <tr>\n",
       "      <th>3</th>\n",
       "      <td>39061</td>\n",
       "      <td>OH</td>\n",
       "      <td>Hamilton</td>\n",
       "      <td>32824.605356</td>\n",
       "      <td>30.00</td>\n",
       "      <td>40.400000</td>\n",
       "      <td>54.000000</td>\n",
       "      <td>17725.286892</td>\n",
       "    </tr>\n",
       "    <tr>\n",
       "      <th>4</th>\n",
       "      <td>39151</td>\n",
       "      <td>OH</td>\n",
       "      <td>Stark</td>\n",
       "      <td>17205.424178</td>\n",
       "      <td>27.80</td>\n",
       "      <td>45.900000</td>\n",
       "      <td>52.800000</td>\n",
       "      <td>9084.463966</td>\n",
       "    </tr>\n",
       "    <tr>\n",
       "      <th>5</th>\n",
       "      <td>42049</td>\n",
       "      <td>PA</td>\n",
       "      <td>Erie</td>\n",
       "      <td>10806.511685</td>\n",
       "      <td>24.30</td>\n",
       "      <td>47.900000</td>\n",
       "      <td>46.900000</td>\n",
       "      <td>5176.319097</td>\n",
       "    </tr>\n",
       "    <tr>\n",
       "      <th>6</th>\n",
       "      <td>47065</td>\n",
       "      <td>TN</td>\n",
       "      <td>Hamilton</td>\n",
       "      <td>20378.017545</td>\n",
       "      <td>31.40</td>\n",
       "      <td>47.800000</td>\n",
       "      <td>51.600000</td>\n",
       "      <td>10515.057053</td>\n",
       "    </tr>\n",
       "  </tbody>\n",
       "</table>\n",
       "</div>"
      ],
      "text/plain": [
       "    FIPS State      County  Senior_Low_Store_Access  avg_DIABETES_CrudePrev  \\\n",
       "0  01101    AL  Montgomery             20530.592895                   28.20   \n",
       "1  18089    IN        Lake             94566.034606                   28.20   \n",
       "2  39035    OH    Cuyahoga            218770.596097                   32.12   \n",
       "3  39061    OH    Hamilton             32824.605356                   30.00   \n",
       "4  39151    OH       Stark             17205.424178                   27.80   \n",
       "5  42049    PA        Erie             10806.511685                   24.30   \n",
       "6  47065    TN    Hamilton             20378.017545                   31.40   \n",
       "\n",
       "   avg_HIGHCHOL_CrudePrev  avg_OBESITY_CrudePrev      Reach_Est  \n",
       "0               42.466667              52.666667   10812.778925  \n",
       "1               40.420000              52.860000   49987.605893  \n",
       "2               41.680000              53.300000  116604.727720  \n",
       "3               40.400000              54.000000   17725.286892  \n",
       "4               45.900000              52.800000    9084.463966  \n",
       "5               47.900000              46.900000    5176.319097  \n",
       "6               47.800000              51.600000   10515.057053  "
      ]
     },
     "metadata": {},
     "output_type": "display_data"
    },
    {
     "data": {
      "text/html": [
       "<div>\n",
       "<style scoped>\n",
       "    .dataframe tbody tr th:only-of-type {\n",
       "        vertical-align: middle;\n",
       "    }\n",
       "\n",
       "    .dataframe tbody tr th {\n",
       "        vertical-align: top;\n",
       "    }\n",
       "\n",
       "    .dataframe thead th {\n",
       "        text-align: right;\n",
       "    }\n",
       "</style>\n",
       "<table border=\"1\" class=\"dataframe\">\n",
       "  <thead>\n",
       "    <tr style=\"text-align: right;\">\n",
       "      <th></th>\n",
       "      <th>Reach_Est_Total</th>\n",
       "    </tr>\n",
       "  </thead>\n",
       "  <tbody>\n",
       "    <tr>\n",
       "      <th>0</th>\n",
       "      <td>219906.239546</td>\n",
       "    </tr>\n",
       "  </tbody>\n",
       "</table>\n",
       "</div>"
      ],
      "text/plain": [
       "   Reach_Est_Total\n",
       "0    219906.239546"
      ]
     },
     "metadata": {},
     "output_type": "display_data"
    }
   ],
   "source": [
    "# Find number of Senior with low access to stores in pilot counties who likely have one of the 3 qualifying\n",
    "# conditions: diabetes, high cholesterol, or obesity. Becuase these are frequently co-morbid conditions, it is \n",
    "# likely that this is an under estimation as i am only using the largest prevalance between the three diseases as the proxy for reach. \n",
    "\n",
    "sql_location_reach = '''\n",
    "SELECT a.FIPS,\n",
    "    a.State,\n",
    "    a.County,\n",
    "    sum(a.LACCESS_SENIORS15) as Senior_Low_Store_Access,\n",
    "    avg(b.DIABETES_CrudePrev) as avg_DIABETES_CrudePrev,\n",
    "    avg(b.HIGHCHOL_CrudePrev) as avg_HIGHCHOL_CrudePrev,\n",
    "    avg(b.OBESITY_CrudePrev) as avg_OBESITY_CrudePrev\n",
    "FROM (''' + sql_location + ''') a JOIN (''' + sql_location2 + ''') b ON a.FIPS = b.FIPS\n",
    "GROUP BY a.FIPS\n",
    "'''\n",
    "\n",
    "sql_reach = '''\n",
    "SELECT FIPS,\n",
    "    State,\n",
    "    County,\n",
    "    Senior_Low_Store_Access,\n",
    "    avg_DIABETES_CrudePrev,\n",
    "    avg_HIGHCHOL_CrudePrev,\n",
    "    avg_OBESITY_CrudePrev,\n",
    "    CASE \n",
    "        WHEN avg_DIABETES_CrudePrev >= avg_HIGHCHOL_CrudePrev AND avg_DIABETES_CrudePrev >= avg_OBESITY_CrudePrev THEN avg_DIABETES_CrudePrev\n",
    "        WHEN avg_HIGHCHOL_CrudePrev >= avg_DIABETES_CrudePrev AND avg_HIGHCHOL_CrudePrev >= avg_OBESITY_CrudePrev THEN avg_HIGHCHOL_CrudePrev \n",
    "        ELSE avg_OBESITY_CrudePrev \n",
    "    END / 100 * Senior_Low_Store_Access AS Reach_Est \n",
    "FROM (''' + sql_location_reach + '''\n",
    ")\n",
    "'''\n",
    "\n",
    "sql_reach_tot = '''\n",
    "SELECT sum(Reach_Est) as Reach_Est_Total\n",
    "FROM (''' + sql_reach + ''')\n",
    "'''\n",
    "\n",
    "\n",
    "sql_location_reach_df = pd.read_sql_query(sql_location_reach, conn)\n",
    "display(sql_location_reach_df)\n",
    "\n",
    "sql_reach_df = pd.read_sql_query(sql_reach, conn)\n",
    "display(sql_reach_df) # 162,654\n",
    "\n",
    "sql_reach_tot_df = pd.read_sql_query(sql_reach_tot, conn) # 6,198,903\n",
    "display(sql_reach_tot_df) \n"
   ]
  },
  {
   "attachments": {},
   "cell_type": "markdown",
   "metadata": {},
   "source": [
    "### 3: Subgroup analysis \n",
    "\n",
    "Simplyfying assumption: The % of low access to store by race does not change with age. Likely not true, but I don't have age-adjusted data. "
   ]
  },
  {
   "cell_type": "code",
   "execution_count": 17,
   "metadata": {},
   "outputs": [
    {
     "data": {
      "text/html": [
       "<div>\n",
       "<style scoped>\n",
       "    .dataframe tbody tr th:only-of-type {\n",
       "        vertical-align: middle;\n",
       "    }\n",
       "\n",
       "    .dataframe tbody tr th {\n",
       "        vertical-align: top;\n",
       "    }\n",
       "\n",
       "    .dataframe thead th {\n",
       "        text-align: right;\n",
       "    }\n",
       "</style>\n",
       "<table border=\"1\" class=\"dataframe\">\n",
       "  <thead>\n",
       "    <tr style=\"text-align: right;\">\n",
       "      <th></th>\n",
       "      <th>White</th>\n",
       "      <th>Black</th>\n",
       "      <th>Hispanic</th>\n",
       "      <th>Asian</th>\n",
       "      <th>LowIncome</th>\n",
       "      <th>Diabetes</th>\n",
       "      <th>HighCholesterol</th>\n",
       "      <th>Obesity</th>\n",
       "    </tr>\n",
       "  </thead>\n",
       "  <tbody>\n",
       "    <tr>\n",
       "      <th>0</th>\n",
       "      <td>18.695873</td>\n",
       "      <td>6.559069</td>\n",
       "      <td>0.970724</td>\n",
       "      <td>0.49444</td>\n",
       "      <td>8.30495</td>\n",
       "      <td>15.578598</td>\n",
       "      <td>33.599621</td>\n",
       "      <td>39.524053</td>\n",
       "    </tr>\n",
       "  </tbody>\n",
       "</table>\n",
       "</div>"
      ],
      "text/plain": [
       "       White     Black  Hispanic    Asian  LowIncome   Diabetes  \\\n",
       "0  18.695873  6.559069  0.970724  0.49444    8.30495  15.578598   \n",
       "\n",
       "   HighCholesterol    Obesity  \n",
       "0        33.599621  39.524053  "
      ]
     },
     "metadata": {},
     "output_type": "display_data"
    }
   ],
   "source": [
    "\n",
    "sql_subgroups = '''\n",
    "SELECT  \n",
    "    avg(PCT_LACCESS_WHITE15) as White, \n",
    "    avg(PCT_LACCESS_BLACK15) as Black, \n",
    "    avg(PCT_LACCESS_HISP15) as Hispanic, \n",
    "    avg(PCT_LACCESS_NHASIAN15) as Asian,\n",
    "    avg(PCT_LACCESS_LOWI15) as LowIncome,\n",
    "    avg(DIABETES_CrudePrev) as Diabetes,\n",
    "    avg(HIGHCHOL_CrudePrev) as HighCholesterol,\n",
    "    avg(OBESITY_CrudePrev) as Obesity\n",
    "FROM access_clean a JOIN five_hundred_cities_clean b ON a.FIPS = b.FIPS \n",
    "WHERE a.FIPS IN (''' + str(final_fips)[1:-1] + ''')\n",
    "'''\n",
    "\n",
    "sql_subgroups_df = pd.read_sql_query(sql_subgroups, conn)\n",
    "display(sql_subgroups_df)"
   ]
  },
  {
   "attachments": {},
   "cell_type": "markdown",
   "metadata": {},
   "source": [
    "### Visualization 2: Sub Group Bar Plot"
   ]
  },
  {
   "cell_type": "code",
   "execution_count": 18,
   "metadata": {},
   "outputs": [
    {
     "data": {
      "image/png": "[encoded data removed]",
      "text/plain": [
       "<Figure size 1000x600 with 1 Axes>"
      ]
     },
     "metadata": {},
     "output_type": "display_data"
    },
    {
     "data": {
      "text/plain": [
       "<Figure size 640x480 with 0 Axes>"
      ]
     },
     "metadata": {},
     "output_type": "display_data"
    }
   ],
   "source": [
    "# Create a list of subgroups/colors\n",
    "subgroups = ['White', 'Black', 'Hispanic', 'Asian', 'LowIncome', 'Diabetes', 'HighCholesterol', 'Obesity']\n",
    "colors = ['#E66822', '#E66822', '#E66822', '#E66822', '#F1B256', '#63A8BB', '#63A8BB', '#63A8BB']\n",
    "\n",
    "# set font\n",
    "matplotlib.rcParams['font.family'] = 'Sans-Serif'\n",
    "\n",
    "# Create a bar plot  \n",
    "fig, ax = plt.subplots(figsize=(10, 6))\n",
    "bars = ax.bar(subgroups, sql_subgroups_df.values.tolist()[0], color=colors)\n",
    "\n",
    "for bar in bars:\n",
    "    height = bar.get_height()\n",
    "    ax.annotate(f'{height:.1f}%', \n",
    "                xy=(bar.get_x() + bar.get_width() / 2, height), \n",
    "                xytext=(0, 3), \n",
    "                textcoords='offset points', \n",
    "                ha='center', \n",
    "                va='bottom')\n",
    "\n",
    "# Set the x-axis and y-axis labels\n",
    "ax.set_ylabel('Average Demographic Percentage (%)')\n",
    "ax.set_title('Demographic and Disease Burden Across Pilot Counties')\n",
    "\n",
    "# Rotate the x-axis labels\n",
    "plt.setp(ax.get_xticklabels(), rotation=45, ha='right')\n",
    "\n",
    "# Show the plot\n",
    "plt.show()\n",
    "plt.savefig('my_plot.jpg')\n"
   ]
  }
 ],
 "metadata": {
  "kernelspec": {
   "display_name": "Python 3",
   "language": "python",
   "name": "python3"
  },
  "language_info": {
   "codemirror_mode": {
    "name": "ipython",
    "version": 3
   },
   "file_extension": ".py",
   "mimetype": "text/x-python",
   "name": "python",
   "nbconvert_exporter": "python",
   "pygments_lexer": "ipython3",
   "version": "3.10.2"
  },
  "orig_nbformat": 4
 },
 "nbformat": 4,
 "nbformat_minor": 2
}
